{
 "cells": [
  {
   "cell_type": "code",
   "execution_count": 31,
   "metadata": {},
   "outputs": [],
   "source": [
    "# imports\r\n",
    "import boundarytools\r\n",
    "import os\r\n",
    "import json\r\n",
    "import numpy as np"
   ]
  },
  {
   "cell_type": "code",
   "execution_count": 32,
   "metadata": {},
   "outputs": [],
   "source": [
    "# load country boundaries\r\n",
    "#url = 'https://www.geoboundaries.org/data/geoBoundariesCGAZ-3_0_0/ADM0/simplifyRatio_10/geoBoundariesCGAZ_ADM0.geojson'\r\n",
    "#geoj = boundarytools.utils.load_geojson_url(url)\r\n",
    "with open('data/gb-countries-simple.json', encoding='utf8') as r:\r\n",
    "    geoj = json.loads(r.read())"
   ]
  },
  {
   "cell_type": "code",
   "execution_count": 33,
   "metadata": {},
   "outputs": [],
   "source": [
    "def get_country_level_stats(iso, level):\r\n",
    "    # open stats\r\n",
    "    try:\r\n",
    "        path = 'global_stats/{}-ADM{}-stats.json'.format(iso, level)\r\n",
    "        with open(path) as r:\r\n",
    "            stats = json.loads(r.read())\r\n",
    "    except:\r\n",
    "        return None\r\n",
    "    # get all sources\r\n",
    "    sources = set()\r\n",
    "    for src,stats2 in stats.items():\r\n",
    "        sources.add(src)\r\n",
    "        for src2 in stats2.keys():\r\n",
    "            sources.add(src2)\r\n",
    "    # create arrays\r\n",
    "    '''\r\n",
    "    shape = len(sources),len(sources)\r\n",
    "    emat = np.empty(shape)\r\n",
    "    wmat = np.empty(shape)\r\n",
    "    cmat = np.empty(shape)\r\n",
    "    for i,src in enumerate(sources):\r\n",
    "        stats2 = stats.get(src, None)\r\n",
    "        for i2,src2 in enumerate(sources):\r\n",
    "            try:\r\n",
    "                simil = stats2[src2]\r\n",
    "            except:\r\n",
    "                simil = None\r\n",
    "            if simil:\r\n",
    "                emat[i,i2] = simil['equality']\r\n",
    "                wmat[i,i2] = simil['within']\r\n",
    "                cmat[i,i2] = simil['contains']\r\n",
    "    return emat,wmat,cmat\r\n",
    "    '''\r\n",
    "    tables = {}\r\n",
    "    for metric in ['equality','within','contains']:\r\n",
    "        table = []\r\n",
    "        for source1 in sources:\r\n",
    "            row = []\r\n",
    "            for source2 in sources:\r\n",
    "                try:\r\n",
    "                    val = stats[source1][source2][metric]\r\n",
    "                except:\r\n",
    "                    val = 0\r\n",
    "                row.append(val)\r\n",
    "            table.append(row)\r\n",
    "        table = np.array(table)\r\n",
    "        #print(metric)\r\n",
    "        #print(table)\r\n",
    "        tables[metric] = table\r\n",
    "    return tables\r\n",
    "def calc_prob(matrices):\r\n",
    "    probmat = matrices['equality'] * matrices['within']\r\n",
    "    rowtots = []\r\n",
    "    for row in probmat:\r\n",
    "        vals = [v for v in row if v != 0] # exclude 0, same as weird error\r\n",
    "        rowtot = np.mean(vals)\r\n",
    "        rowtots.append(rowtot)\r\n",
    "    tottot = np.mean(rowtots)\r\n",
    "    return tottot\r\n",
    "# collect for each level\r\n",
    "for f in geoj['features']:\r\n",
    "    props = f['properties']\r\n",
    "    iso = props['shapeISO']\r\n",
    "    for level in range(0, 4+1):\r\n",
    "        mats = get_country_level_stats(iso, level)\r\n",
    "        if mats:\r\n",
    "            props['prob{}'.format(level)] = calc_prob(mats)\r\n",
    "        else:\r\n",
    "            props['prob{}'.format(level)] = None"
   ]
  },
  {
   "cell_type": "code",
   "execution_count": 35,
   "metadata": {},
   "outputs": [
    {
     "data": {
      "image/png": "[encoded data removed]",
      "text/plain": [
       "<Figure size 432x288 with 2 Axes>"
      ]
     },
     "metadata": {
      "needs_background": "light"
     },
     "output_type": "display_data"
    }
   ],
   "source": [
    "# visualize country probs\r\n",
    "fig = boundarytools.utils.show_dataset(geoj, color_by='prob1')"
   ]
  },
  {
   "cell_type": "code",
   "execution_count": 36,
   "metadata": {},
   "outputs": [
    {
     "name": "stdout",
     "output_type": "stream",
     "text": [
      "3.4.2\n"
     ]
    }
   ],
   "source": [
    "import matplotlib\r\n",
    "print(matplotlib.__version__)"
   ]
  }
 ],
 "metadata": {
  "interpreter": {
   "hash": "ac59ebe37160ed0dfa835113d9b8498d9f09ceb179beaac4002f036b9467c963"
  },
  "kernelspec": {
   "display_name": "Python 3.9.4 64-bit",
   "name": "python3"
  },
  "language_info": {
   "codemirror_mode": {
    "name": "ipython",
    "version": 3
   },
   "file_extension": ".py",
   "mimetype": "text/x-python",
   "name": "python",
   "nbconvert_exporter": "python",
   "pygments_lexer": "ipython3",
   "version": "3.9.4"
  },
  "orig_nbformat": 4
 },
 "nbformat": 4,
 "nbformat_minor": 2
}